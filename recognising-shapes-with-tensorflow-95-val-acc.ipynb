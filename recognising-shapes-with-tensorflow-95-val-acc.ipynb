{
 "cells": [
  {
   "cell_type": "code",
   "execution_count": 1,
   "id": "0e8bcdad",
   "metadata": {
    "execution": {
     "iopub.execute_input": "2021-11-11T21:19:48.415065Z",
     "iopub.status.busy": "2021-11-11T21:19:48.413136Z",
     "iopub.status.idle": "2021-11-11T21:19:54.457008Z",
     "shell.execute_reply": "2021-11-11T21:19:54.457683Z",
     "shell.execute_reply.started": "2021-11-11T21:16:24.638269Z"
    },
    "papermill": {
     "duration": 6.061349,
     "end_time": "2021-11-11T21:19:54.457984",
     "exception": false,
     "start_time": "2021-11-11T21:19:48.396635",
     "status": "completed"
    },
    "tags": []
   },
   "outputs": [],
   "source": [
    "import os\n",
    "import random\n",
    "import tensorflow as tf\n",
    "from tensorflow.keras.optimizers import RMSprop\n",
    "from tensorflow.keras.preprocessing.image import ImageDataGenerator\n",
    "from shutil import copyfile\n",
    "from pathlib import Path"
   ]
  },
  {
   "cell_type": "code",
   "execution_count": 2,
   "id": "4fd3c459",
   "metadata": {
    "execution": {
     "iopub.execute_input": "2021-11-11T21:19:54.484770Z",
     "iopub.status.busy": "2021-11-11T21:19:54.483783Z",
     "iopub.status.idle": "2021-11-11T21:19:54.533152Z",
     "shell.execute_reply": "2021-11-11T21:19:54.533686Z",
     "shell.execute_reply.started": "2021-11-11T21:17:17.621682Z"
    },
    "papermill": {
     "duration": 0.063752,
     "end_time": "2021-11-11T21:19:54.533871",
     "exception": false,
     "start_time": "2021-11-11T21:19:54.470119",
     "status": "completed"
    },
    "tags": []
   },
   "outputs": [
    {
     "name": "stdout",
     "output_type": "stream",
     "text": [
      "100\n",
      "100\n",
      "100\n"
     ]
    }
   ],
   "source": [
    "CIRCLES_SOURCE_DIR = '../input/basicshapes/shapes/circles/'\n",
    "SQUARES_SOURCE_DIR = '../input/basicshapes/shapes/squares/'\n",
    "TRIANGLES_SOURCE_DIR = '../input/basicshapes/shapes/triangles/'\n",
    "\n",
    "print(len(os.listdir(CIRCLES_SOURCE_DIR)))\n",
    "print(len(os.listdir(SQUARES_SOURCE_DIR)))\n",
    "print(len(os.listdir(TRIANGLES_SOURCE_DIR)))"
   ]
  },
  {
   "cell_type": "code",
   "execution_count": 3,
   "id": "84627456",
   "metadata": {
    "execution": {
     "iopub.execute_input": "2021-11-11T21:19:54.557362Z",
     "iopub.status.busy": "2021-11-11T21:19:54.556701Z",
     "iopub.status.idle": "2021-11-11T21:19:54.563572Z",
     "shell.execute_reply": "2021-11-11T21:19:54.564064Z",
     "shell.execute_reply.started": "2021-11-11T21:17:19.627832Z"
    },
    "papermill": {
     "duration": 0.019998,
     "end_time": "2021-11-11T21:19:54.564262",
     "exception": false,
     "start_time": "2021-11-11T21:19:54.544264",
     "status": "completed"
    },
    "tags": []
   },
   "outputs": [],
   "source": [
    "train_circles_dir = \"./shapes/training/circles\"\n",
    "Path(train_circles_dir).mkdir(parents=True, exist_ok=True)\n",
    "train_squares_dir = \"./shapes/training/squares\"\n",
    "Path(train_squares_dir).mkdir(parents=True, exist_ok=True)\n",
    "train_triangles_dir = \"./shapes/training/triangles\"\n",
    "Path(train_triangles_dir).mkdir(parents=True, exist_ok=True)\n",
    "\n",
    "val_circles_dir = \"./shapes/testing/circles\"\n",
    "Path(val_circles_dir).mkdir(parents=True, exist_ok=True)\n",
    "val_squares_dir = \"./shapes/testing/squares\"\n",
    "Path(val_squares_dir).mkdir(parents=True, exist_ok=True)\n",
    "val_triangles_dir = \"./shapes/testing/triangles\"\n",
    "Path(val_triangles_dir).mkdir(parents=True, exist_ok=True)"
   ]
  },
  {
   "cell_type": "code",
   "execution_count": 4,
   "id": "a70022d5",
   "metadata": {
    "execution": {
     "iopub.execute_input": "2021-11-11T21:19:54.589731Z",
     "iopub.status.busy": "2021-11-11T21:19:54.589036Z",
     "iopub.status.idle": "2021-11-11T21:19:55.528713Z",
     "shell.execute_reply": "2021-11-11T21:19:55.529302Z",
     "shell.execute_reply.started": "2021-11-11T21:17:32.894435Z"
    },
    "papermill": {
     "duration": 0.952828,
     "end_time": "2021-11-11T21:19:55.529483",
     "exception": false,
     "start_time": "2021-11-11T21:19:54.576655",
     "status": "completed"
    },
    "tags": []
   },
   "outputs": [],
   "source": [
    "def split_data(source, training, testing, split_size):\n",
    "    files = []\n",
    "    \n",
    "    for f in os.listdir(source):\n",
    "        f_path = source + f\n",
    "        if os.path.getsize(f_path):\n",
    "            files.append(f)\n",
    "   \n",
    "    split_point = int(len(files) * split_size)\n",
    "    random.shuffle(files)\n",
    "    train_set = files[:split_point]\n",
    "    val_set = files[split_point:]\n",
    "    \n",
    "    for f in train_set:\n",
    "        copyfile(os.path.join(source, f), os.path.join(training, f))\n",
    "        \n",
    "    for f in val_set:\n",
    "        copyfile(os.path.join(source, f), os.path.join(testing, f))\n",
    "\n",
    "split_size = .7\n",
    "split_data(CIRCLES_SOURCE_DIR, train_circles_dir, val_circles_dir, split_size)\n",
    "split_data(SQUARES_SOURCE_DIR, train_squares_dir, val_squares_dir, split_size)\n",
    "split_data(TRIANGLES_SOURCE_DIR, train_triangles_dir, val_triangles_dir, split_size)"
   ]
  },
  {
   "cell_type": "code",
   "execution_count": 5,
   "id": "4cd2843e",
   "metadata": {
    "execution": {
     "iopub.execute_input": "2021-11-11T21:19:55.552969Z",
     "iopub.status.busy": "2021-11-11T21:19:55.552280Z",
     "iopub.status.idle": "2021-11-11T21:19:55.559941Z",
     "shell.execute_reply": "2021-11-11T21:19:55.560490Z",
     "shell.execute_reply.started": "2021-11-11T21:17:38.400460Z"
    },
    "papermill": {
     "duration": 0.021021,
     "end_time": "2021-11-11T21:19:55.560678",
     "exception": false,
     "start_time": "2021-11-11T21:19:55.539657",
     "status": "completed"
    },
    "tags": []
   },
   "outputs": [
    {
     "name": "stdout",
     "output_type": "stream",
     "text": [
      "70\n",
      "70\n",
      "70\n",
      "30\n",
      "30\n",
      "30\n"
     ]
    }
   ],
   "source": [
    "print(len(os.listdir(train_circles_dir)))\n",
    "print(len(os.listdir(train_squares_dir)))\n",
    "print(len(os.listdir(train_triangles_dir)))\n",
    "print(len(os.listdir(val_circles_dir)))\n",
    "print(len(os.listdir(val_squares_dir)))\n",
    "print(len(os.listdir(val_triangles_dir)))"
   ]
  },
  {
   "cell_type": "code",
   "execution_count": 6,
   "id": "ec5efe31",
   "metadata": {
    "execution": {
     "iopub.execute_input": "2021-11-11T21:19:55.599770Z",
     "iopub.status.busy": "2021-11-11T21:19:55.589821Z",
     "iopub.status.idle": "2021-11-11T21:19:56.283011Z",
     "shell.execute_reply": "2021-11-11T21:19:56.283862Z",
     "shell.execute_reply.started": "2021-11-11T21:17:44.052724Z"
    },
    "papermill": {
     "duration": 0.712886,
     "end_time": "2021-11-11T21:19:56.284049",
     "exception": false,
     "start_time": "2021-11-11T21:19:55.571163",
     "status": "completed"
    },
    "tags": []
   },
   "outputs": [
    {
     "data": {
      "image/png": "[encoded data removed]",
      "text/plain": [
       "<Figure size 288x216 with 12 Axes>"
      ]
     },
     "metadata": {
      "needs_background": "light"
     },
     "output_type": "display_data"
    }
   ],
   "source": [
    "%matplotlib inline\n",
    "\n",
    "import matplotlib.image as mpimg\n",
    "import matplotlib.pyplot as plt\n",
    "\n",
    "# Parameters for our graph; we'll output images in a 3x4 configuration\n",
    "nrows = 3\n",
    "ncols = 4\n",
    "\n",
    "pic_index = 0 # Index for iterating over images\n",
    "\n",
    "# Set up matplotlib fig, and size it to fit 4x4 pics\n",
    "fig = plt.gcf()\n",
    "fig.set_size_inches(ncols, nrows)\n",
    "\n",
    "pic_index+=4\n",
    "\n",
    "next_cirlce = [os.path.join(train_circles_dir, fname) \n",
    "                for fname in os.listdir(train_circles_dir)[ pic_index-4:pic_index] \n",
    "               ]\n",
    "\n",
    "next_square = [os.path.join(train_squares_dir, fname) \n",
    "                for fname in os.listdir(train_squares_dir)[ pic_index-4:pic_index]\n",
    "               ]\n",
    "\n",
    "next_triangle = [os.path.join(train_triangles_dir, fname) \n",
    "                for fname in os.listdir(train_triangles_dir)[ pic_index-4:pic_index]\n",
    "               ]\n",
    "\n",
    "for i, img_path in enumerate(next_cirlce+next_square+next_triangle):\n",
    "  # Set up subplot; subplot indices start at 1\n",
    "  sp = plt.subplot(nrows, ncols, i + 1)\n",
    "  sp.axis('Off') # Don't show axes (or gridlines)\n",
    "\n",
    "  img = mpimg.imread(img_path)\n",
    "  plt.imshow(img)\n",
    "\n",
    "plt.show()"
   ]
  },
  {
   "cell_type": "code",
   "execution_count": 7,
   "id": "8cfb035c",
   "metadata": {
    "execution": {
     "iopub.execute_input": "2021-11-11T21:19:56.316078Z",
     "iopub.status.busy": "2021-11-11T21:19:56.315381Z",
     "iopub.status.idle": "2021-11-11T21:19:56.527114Z",
     "shell.execute_reply": "2021-11-11T21:19:56.526342Z",
     "shell.execute_reply.started": "2021-11-11T21:17:49.968073Z"
    },
    "papermill": {
     "duration": 0.231399,
     "end_time": "2021-11-11T21:19:56.527333",
     "exception": false,
     "start_time": "2021-11-11T21:19:56.295934",
     "status": "completed"
    },
    "tags": []
   },
   "outputs": [
    {
     "name": "stdout",
     "output_type": "stream",
     "text": [
      "Found 210 images belonging to 3 classes.\n",
      "Found 90 images belonging to 3 classes.\n"
     ]
    }
   ],
   "source": [
    "train_datagen = ImageDataGenerator(rescale = 1./255,\n",
    "                                  rotation_range=40,\n",
    "                                  width_shift_range=0.1,\n",
    "                                  height_shift_range=0.1,\n",
    "                                  shear_range=0.1,\n",
    "                                  zoom_range=0.1,\n",
    "                                  horizontal_flip=True,\n",
    "                                  fill_mode='nearest')\n",
    "\n",
    "train_dir = \"./shapes/training\"\n",
    "train_generator = train_datagen.flow_from_directory(train_dir,\n",
    "                                    batch_size=30,\n",
    "                                    class_mode='categorical',\n",
    "                                    target_size=(28, 28))  \n",
    "\n",
    "validation_datagen = ImageDataGenerator(rescale = 1./255)\n",
    "\n",
    "val_dir = \"./shapes/testing\"\n",
    "validation_generator = validation_datagen.flow_from_directory(val_dir,\n",
    "                                                batch_size=30,\n",
    "                                                class_mode  = 'categorical',\n",
    "                                                target_size = (28, 28))"
   ]
  },
  {
   "cell_type": "code",
   "execution_count": 8,
   "id": "29d99e29",
   "metadata": {
    "execution": {
     "iopub.execute_input": "2021-11-11T21:19:56.558377Z",
     "iopub.status.busy": "2021-11-11T21:19:56.557545Z",
     "iopub.status.idle": "2021-11-11T21:19:56.560607Z",
     "shell.execute_reply": "2021-11-11T21:19:56.559979Z",
     "shell.execute_reply.started": "2021-11-11T21:17:53.757056Z"
    },
    "papermill": {
     "duration": 0.020711,
     "end_time": "2021-11-11T21:19:56.560751",
     "exception": false,
     "start_time": "2021-11-11T21:19:56.540040",
     "status": "completed"
    },
    "tags": []
   },
   "outputs": [],
   "source": [
    "class myCb(tf.keras.callbacks.Callback):\n",
    "    def on_epoch_end(self, epoch, logs={}):\n",
    "        if logs.get(\"val_accuracy\") >= 0.95:\n",
    "            print(\"Reached 95% accuracy so cancelling training!\")\n",
    "            self.model.stop_training = True\n",
    "\n",
    "callbacks = myCb()"
   ]
  },
  {
   "cell_type": "code",
   "execution_count": 9,
   "id": "a88b2ee6",
   "metadata": {
    "execution": {
     "iopub.execute_input": "2021-11-11T21:19:56.593630Z",
     "iopub.status.busy": "2021-11-11T21:19:56.592862Z",
     "iopub.status.idle": "2021-11-11T21:20:34.748028Z",
     "shell.execute_reply": "2021-11-11T21:20:34.748754Z",
     "shell.execute_reply.started": "2021-11-11T21:17:57.627624Z"
    },
    "papermill": {
     "duration": 38.176622,
     "end_time": "2021-11-11T21:20:34.748984",
     "exception": false,
     "start_time": "2021-11-11T21:19:56.572362",
     "status": "completed"
    },
    "tags": []
   },
   "outputs": [
    {
     "name": "stderr",
     "output_type": "stream",
     "text": [
      "\n",
      "User settings:\n",
      "\n",
      "   KMP_AFFINITY=granularity=fine,verbose,compact,1,0\n",
      "   KMP_BLOCKTIME=0\n",
      "   KMP_SETTINGS=1\n",
      "   KMP_WARNINGS=0\n",
      "\n",
      "Effective settings:\n",
      "\n",
      "   KMP_ABORT_DELAY=0\n",
      "   KMP_ADAPTIVE_LOCK_PROPS='1,1024'\n",
      "   KMP_ALIGN_ALLOC=64\n",
      "   KMP_ALL_THREADPRIVATE=128\n",
      "   KMP_ATOMIC_MODE=2\n",
      "   KMP_BLOCKTIME=0\n",
      "   KMP_CPUINFO_FILE: value is not defined\n",
      "   KMP_DETERMINISTIC_REDUCTION=false\n",
      "   KMP_DEVICE_THREAD_LIMIT=2147483647\n",
      "   KMP_DISP_NUM_BUFFERS=7\n",
      "   KMP_DUPLICATE_LIB_OK=false\n",
      "   KMP_ENABLE_TASK_THROTTLING=true\n",
      "   KMP_FORCE_REDUCTION: value is not defined\n",
      "   KMP_FOREIGN_THREADS_THREADPRIVATE=true\n",
      "   KMP_FORKJOIN_BARRIER='2,2'\n",
      "   KMP_FORKJOIN_BARRIER_PATTERN='hyper,hyper'\n",
      "   KMP_GTID_MODE=3\n",
      "   KMP_HANDLE_SIGNALS=false\n",
      "   KMP_HOT_TEAMS_MAX_LEVEL=1\n",
      "   KMP_HOT_TEAMS_MODE=0\n",
      "   KMP_INIT_AT_FORK=true\n",
      "   KMP_LIBRARY=throughput\n",
      "   KMP_LOCK_KIND=queuing\n",
      "   KMP_MALLOC_POOL_INCR=1M\n",
      "   KMP_NUM_LOCKS_IN_BLOCK=1\n",
      "   KMP_PLAIN_BARRIER='2,2'\n",
      "   KMP_PLAIN_BARRIER_PATTERN='hyper,hyper'\n",
      "   KMP_REDUCTION_BARRIER='1,1'\n",
      "   KMP_REDUCTION_BARRIER_PATTERN='hyper,hyper'\n",
      "   KMP_SCHEDULE='static,balanced;guided,iterative'\n",
      "   KMP_SETTINGS=true\n",
      "   KMP_SPIN_BACKOFF_PARAMS='4096,100'\n",
      "   KMP_STACKOFFSET=64\n",
      "   KMP_STACKPAD=0\n",
      "   KMP_STACKSIZE=8M\n",
      "   KMP_STORAGE_MAP=false\n",
      "   KMP_TASKING=2\n",
      "   KMP_TASKLOOP_MIN_TASKS=0\n",
      "   KMP_TASK_STEALING_CONSTRAINT=1\n",
      "   KMP_TEAMS_THREAD_LIMIT=4\n",
      "   KMP_TOPOLOGY_METHOD=all\n",
      "   KMP_USE_YIELD=1\n",
      "   KMP_VERSION=false\n",
      "   KMP_WARNINGS=false\n",
      "   OMP_AFFINITY_FORMAT='OMP: pid %P tid %i thread %n bound to OS proc set {%A}'\n",
      "   OMP_ALLOCATOR=omp_default_mem_alloc\n",
      "   OMP_CANCELLATION=false\n",
      "   OMP_DEFAULT_DEVICE=0\n",
      "   OMP_DISPLAY_AFFINITY=false\n",
      "   OMP_DISPLAY_ENV=false\n",
      "   OMP_DYNAMIC=false\n",
      "   OMP_MAX_ACTIVE_LEVELS=1\n",
      "   OMP_MAX_TASK_PRIORITY=0\n",
      "   OMP_NESTED: deprecated; max-active-levels-var=1\n",
      "   OMP_NUM_THREADS: value is not defined\n",
      "   OMP_PLACES: value is not defined\n",
      "   OMP_PROC_BIND='intel'\n",
      "   OMP_SCHEDULE='static'\n",
      "   OMP_STACKSIZE=8M\n",
      "   OMP_TARGET_OFFLOAD=DEFAULT\n",
      "   OMP_THREAD_LIMIT=2147483647\n",
      "   OMP_WAIT_POLICY=PASSIVE\n",
      "   KMP_AFFINITY='verbose,warnings,respect,granularity=fine,compact,1,0'\n",
      "\n",
      "2021-11-11 21:19:56.640334: I tensorflow/core/common_runtime/process_util.cc:146] Creating new thread pool with default inter op setting: 2. Tune using inter_op_parallelism_threads for best performance.\n",
      "2021-11-11 21:19:56.860529: I tensorflow/compiler/mlir/mlir_graph_optimization_pass.cc:185] None of the MLIR Optimization Passes are enabled (registered 2)\n"
     ]
    },
    {
     "name": "stdout",
     "output_type": "stream",
     "text": [
      "Epoch 1/200\n",
      "7/7 - 1s - loss: 1.2657 - accuracy: 0.2857 - val_loss: 1.1297 - val_accuracy: 0.3333\n",
      "Epoch 2/200\n",
      "7/7 - 0s - loss: 1.1073 - accuracy: 0.3000 - val_loss: 1.0978 - val_accuracy: 0.3333\n",
      "Epoch 3/200\n",
      "7/7 - 0s - loss: 1.1051 - accuracy: 0.3429 - val_loss: 1.0921 - val_accuracy: 0.4111\n",
      "Epoch 4/200\n",
      "7/7 - 0s - loss: 1.0951 - accuracy: 0.3714 - val_loss: 1.0918 - val_accuracy: 0.4000\n",
      "Epoch 5/200\n",
      "7/7 - 0s - loss: 1.1057 - accuracy: 0.3190 - val_loss: 1.0936 - val_accuracy: 0.3333\n",
      "Epoch 6/200\n",
      "7/7 - 0s - loss: 1.0959 - accuracy: 0.4000 - val_loss: 1.0821 - val_accuracy: 0.3889\n",
      "Epoch 7/200\n",
      "7/7 - 0s - loss: 1.0987 - accuracy: 0.3524 - val_loss: 1.0735 - val_accuracy: 0.5222\n",
      "Epoch 8/200\n",
      "7/7 - 0s - loss: 1.1012 - accuracy: 0.3762 - val_loss: 1.0627 - val_accuracy: 0.5556\n",
      "Epoch 9/200\n",
      "7/7 - 0s - loss: 1.0744 - accuracy: 0.3952 - val_loss: 1.0363 - val_accuracy: 0.6000\n",
      "Epoch 10/200\n",
      "7/7 - 0s - loss: 1.0770 - accuracy: 0.4333 - val_loss: 1.0400 - val_accuracy: 0.5222\n",
      "Epoch 11/200\n",
      "7/7 - 0s - loss: 1.0553 - accuracy: 0.4524 - val_loss: 0.9965 - val_accuracy: 0.5333\n",
      "Epoch 12/200\n",
      "7/7 - 0s - loss: 1.0778 - accuracy: 0.4333 - val_loss: 0.9922 - val_accuracy: 0.5111\n",
      "Epoch 13/200\n",
      "7/7 - 0s - loss: 1.0304 - accuracy: 0.5095 - val_loss: 0.9932 - val_accuracy: 0.5333\n",
      "Epoch 14/200\n",
      "7/7 - 0s - loss: 1.0680 - accuracy: 0.4238 - val_loss: 0.9773 - val_accuracy: 0.5444\n",
      "Epoch 15/200\n",
      "7/7 - 0s - loss: 0.9771 - accuracy: 0.5000 - val_loss: 0.9485 - val_accuracy: 0.5778\n",
      "Epoch 16/200\n",
      "7/7 - 0s - loss: 1.0517 - accuracy: 0.4571 - val_loss: 0.9650 - val_accuracy: 0.5667\n",
      "Epoch 17/200\n",
      "7/7 - 0s - loss: 1.0339 - accuracy: 0.4905 - val_loss: 0.9585 - val_accuracy: 0.5556\n",
      "Epoch 18/200\n",
      "7/7 - 0s - loss: 1.0224 - accuracy: 0.4810 - val_loss: 0.9090 - val_accuracy: 0.5778\n",
      "Epoch 19/200\n",
      "7/7 - 0s - loss: 1.0447 - accuracy: 0.4619 - val_loss: 0.9122 - val_accuracy: 0.5889\n",
      "Epoch 20/200\n",
      "7/7 - 0s - loss: 0.9815 - accuracy: 0.5333 - val_loss: 0.8794 - val_accuracy: 0.5667\n",
      "Epoch 21/200\n",
      "7/7 - 0s - loss: 0.9617 - accuracy: 0.5048 - val_loss: 0.8694 - val_accuracy: 0.5556\n",
      "Epoch 22/200\n",
      "7/7 - 0s - loss: 0.9473 - accuracy: 0.5524 - val_loss: 0.8686 - val_accuracy: 0.5333\n",
      "Epoch 23/200\n",
      "7/7 - 0s - loss: 0.9428 - accuracy: 0.5619 - val_loss: 0.8663 - val_accuracy: 0.5889\n",
      "Epoch 24/200\n",
      "7/7 - 0s - loss: 0.9169 - accuracy: 0.5714 - val_loss: 0.7863 - val_accuracy: 0.6444\n",
      "Epoch 25/200\n",
      "7/7 - 0s - loss: 0.9608 - accuracy: 0.5524 - val_loss: 0.7603 - val_accuracy: 0.6778\n",
      "Epoch 26/200\n",
      "7/7 - 0s - loss: 0.9400 - accuracy: 0.5571 - val_loss: 0.7641 - val_accuracy: 0.6778\n",
      "Epoch 27/200\n",
      "7/7 - 0s - loss: 0.8547 - accuracy: 0.5762 - val_loss: 0.6936 - val_accuracy: 0.7222\n",
      "Epoch 28/200\n",
      "7/7 - 0s - loss: 0.8400 - accuracy: 0.5905 - val_loss: 0.7144 - val_accuracy: 0.7111\n",
      "Epoch 29/200\n",
      "7/7 - 0s - loss: 0.8657 - accuracy: 0.5619 - val_loss: 0.6708 - val_accuracy: 0.7556\n",
      "Epoch 30/200\n",
      "7/7 - 0s - loss: 0.8506 - accuracy: 0.6476 - val_loss: 0.6466 - val_accuracy: 0.7222\n",
      "Epoch 31/200\n",
      "7/7 - 0s - loss: 0.8247 - accuracy: 0.6238 - val_loss: 0.7028 - val_accuracy: 0.7222\n",
      "Epoch 32/200\n",
      "7/7 - 0s - loss: 0.8696 - accuracy: 0.6000 - val_loss: 0.6112 - val_accuracy: 0.7444\n",
      "Epoch 33/200\n",
      "7/7 - 0s - loss: 0.8732 - accuracy: 0.5571 - val_loss: 0.5929 - val_accuracy: 0.7667\n",
      "Epoch 34/200\n",
      "7/7 - 0s - loss: 0.8008 - accuracy: 0.6476 - val_loss: 0.5647 - val_accuracy: 0.8000\n",
      "Epoch 35/200\n",
      "7/7 - 1s - loss: 0.7570 - accuracy: 0.6524 - val_loss: 0.6336 - val_accuracy: 0.7333\n",
      "Epoch 36/200\n",
      "7/7 - 0s - loss: 0.7173 - accuracy: 0.7048 - val_loss: 0.5389 - val_accuracy: 0.7889\n",
      "Epoch 37/200\n",
      "7/7 - 0s - loss: 0.7996 - accuracy: 0.6381 - val_loss: 0.5285 - val_accuracy: 0.7889\n",
      "Epoch 38/200\n",
      "7/7 - 0s - loss: 0.7509 - accuracy: 0.6381 - val_loss: 0.5222 - val_accuracy: 0.8000\n",
      "Epoch 39/200\n",
      "7/7 - 0s - loss: 0.7179 - accuracy: 0.6905 - val_loss: 0.4923 - val_accuracy: 0.8333\n",
      "Epoch 40/200\n",
      "7/7 - 0s - loss: 0.7475 - accuracy: 0.6524 - val_loss: 0.4668 - val_accuracy: 0.8222\n",
      "Epoch 41/200\n",
      "7/7 - 0s - loss: 0.7176 - accuracy: 0.6619 - val_loss: 0.4681 - val_accuracy: 0.8111\n",
      "Epoch 42/200\n",
      "7/7 - 0s - loss: 0.6934 - accuracy: 0.6619 - val_loss: 0.4318 - val_accuracy: 0.8111\n",
      "Epoch 43/200\n",
      "7/7 - 0s - loss: 0.6937 - accuracy: 0.6762 - val_loss: 0.4636 - val_accuracy: 0.8222\n",
      "Epoch 44/200\n",
      "7/7 - 0s - loss: 0.7073 - accuracy: 0.6810 - val_loss: 0.4394 - val_accuracy: 0.8444\n",
      "Epoch 45/200\n",
      "7/7 - 0s - loss: 0.6811 - accuracy: 0.7000 - val_loss: 0.4601 - val_accuracy: 0.8333\n",
      "Epoch 46/200\n",
      "7/7 - 0s - loss: 0.5707 - accuracy: 0.7476 - val_loss: 0.5946 - val_accuracy: 0.7444\n",
      "Epoch 47/200\n",
      "7/7 - 0s - loss: 0.6719 - accuracy: 0.7000 - val_loss: 0.3823 - val_accuracy: 0.8889\n",
      "Epoch 48/200\n",
      "7/7 - 0s - loss: 0.6483 - accuracy: 0.7333 - val_loss: 0.3890 - val_accuracy: 0.8222\n",
      "Epoch 49/200\n",
      "7/7 - 0s - loss: 0.5662 - accuracy: 0.7810 - val_loss: 0.6437 - val_accuracy: 0.7000\n",
      "Epoch 50/200\n",
      "7/7 - 0s - loss: 0.6787 - accuracy: 0.6619 - val_loss: 0.3635 - val_accuracy: 0.8333\n",
      "Epoch 51/200\n",
      "7/7 - 0s - loss: 0.6590 - accuracy: 0.6714 - val_loss: 0.3663 - val_accuracy: 0.8667\n",
      "Epoch 52/200\n",
      "7/7 - 0s - loss: 0.5807 - accuracy: 0.7333 - val_loss: 0.4018 - val_accuracy: 0.8556\n",
      "Epoch 53/200\n",
      "7/7 - 0s - loss: 0.6172 - accuracy: 0.7429 - val_loss: 0.3626 - val_accuracy: 0.8444\n",
      "Epoch 54/200\n",
      "7/7 - 0s - loss: 0.5380 - accuracy: 0.7762 - val_loss: 0.3372 - val_accuracy: 0.8667\n",
      "Epoch 55/200\n",
      "7/7 - 0s - loss: 0.5701 - accuracy: 0.7810 - val_loss: 0.4000 - val_accuracy: 0.8778\n",
      "Epoch 56/200\n",
      "7/7 - 0s - loss: 0.5713 - accuracy: 0.7524 - val_loss: 0.3403 - val_accuracy: 0.8667\n",
      "Epoch 57/200\n",
      "7/7 - 0s - loss: 0.6047 - accuracy: 0.7667 - val_loss: 0.3084 - val_accuracy: 0.9111\n",
      "Epoch 58/200\n",
      "7/7 - 0s - loss: 0.5311 - accuracy: 0.7667 - val_loss: 0.4718 - val_accuracy: 0.7778\n",
      "Epoch 59/200\n",
      "7/7 - 0s - loss: 0.5522 - accuracy: 0.7619 - val_loss: 0.3134 - val_accuracy: 0.9111\n",
      "Epoch 60/200\n",
      "7/7 - 0s - loss: 0.4691 - accuracy: 0.8095 - val_loss: 0.2577 - val_accuracy: 0.9222\n",
      "Epoch 61/200\n",
      "7/7 - 0s - loss: 0.5021 - accuracy: 0.8095 - val_loss: 0.3718 - val_accuracy: 0.8222\n",
      "Epoch 62/200\n",
      "7/7 - 0s - loss: 0.4868 - accuracy: 0.7905 - val_loss: 0.2902 - val_accuracy: 0.9111\n",
      "Epoch 63/200\n",
      "7/7 - 0s - loss: 0.5456 - accuracy: 0.7714 - val_loss: 0.2361 - val_accuracy: 0.9222\n",
      "Epoch 64/200\n",
      "7/7 - 0s - loss: 0.4661 - accuracy: 0.7905 - val_loss: 0.2549 - val_accuracy: 0.9222\n",
      "Epoch 65/200\n",
      "7/7 - 0s - loss: 0.4938 - accuracy: 0.8000 - val_loss: 0.2450 - val_accuracy: 0.9333\n",
      "Epoch 66/200\n",
      "7/7 - 0s - loss: 0.4620 - accuracy: 0.8048 - val_loss: 0.2524 - val_accuracy: 0.9222\n",
      "Epoch 67/200\n",
      "7/7 - 0s - loss: 0.5875 - accuracy: 0.7429 - val_loss: 0.2776 - val_accuracy: 0.9000\n",
      "Epoch 68/200\n",
      "7/7 - 0s - loss: 0.4393 - accuracy: 0.8476 - val_loss: 0.2514 - val_accuracy: 0.9333\n",
      "Epoch 69/200\n",
      "7/7 - 0s - loss: 0.4531 - accuracy: 0.8238 - val_loss: 0.3450 - val_accuracy: 0.8222\n",
      "Epoch 70/200\n",
      "7/7 - 0s - loss: 0.4383 - accuracy: 0.8333 - val_loss: 0.2685 - val_accuracy: 0.9000\n",
      "Epoch 71/200\n",
      "7/7 - 0s - loss: 0.4856 - accuracy: 0.8000 - val_loss: 0.2200 - val_accuracy: 0.9444\n",
      "Epoch 72/200\n",
      "7/7 - 0s - loss: 0.4267 - accuracy: 0.8333 - val_loss: 0.2312 - val_accuracy: 0.9556\n",
      "Reached 95% accuracy so cancelling training!\n"
     ]
    }
   ],
   "source": [
    "model = tf.keras.models.Sequential([\n",
    "    tf.keras.layers.Conv2D(32, (3,3), activation='relu', input_shape=(28, 28, 3)),\n",
    "    tf.keras.layers.MaxPooling2D(2,2),\n",
    "    tf.keras.layers.Conv2D(64, (3,3), activation='relu'),\n",
    "    tf.keras.layers.MaxPooling2D(2,2), \n",
    "    tf.keras.layers.Flatten(),\n",
    "    tf.keras.layers.Dropout(0.2), \n",
    "    tf.keras.layers.Dense(256, activation='relu'), \n",
    "    tf.keras.layers.Dense(3, activation='softmax')  \n",
    "])\n",
    "\n",
    "model.compile(loss='categorical_crossentropy', optimizer='rmsprop', metrics=['accuracy'])\n",
    "\n",
    "history = model.fit(train_generator,\n",
    "                    epochs=200,\n",
    "                    steps_per_epoch=7,\n",
    "                    validation_data = validation_generator,\n",
    "                    validation_steps=3,\n",
    "                    callbacks=[callbacks],\n",
    "                    verbose = 2)"
   ]
  },
  {
   "cell_type": "code",
   "execution_count": 10,
   "id": "ba940996",
   "metadata": {
    "execution": {
     "iopub.execute_input": "2021-11-11T21:20:34.864486Z",
     "iopub.status.busy": "2021-11-11T21:20:34.863478Z",
     "iopub.status.idle": "2021-11-11T21:20:35.505092Z",
     "shell.execute_reply": "2021-11-11T21:20:35.505628Z",
     "shell.execute_reply.started": "2021-11-11T21:04:55.064981Z"
    },
    "papermill": {
     "duration": 0.700959,
     "end_time": "2021-11-11T21:20:35.505804",
     "exception": false,
     "start_time": "2021-11-11T21:20:34.804845",
     "status": "completed"
    },
    "tags": []
   },
   "outputs": [
    {
     "data": {
      "image/png": "[encoded data removed]",
      "text/plain": [
       "<Figure size 432x288 with 1 Axes>"
      ]
     },
     "metadata": {
      "needs_background": "light"
     },
     "output_type": "display_data"
    },
    {
     "data": {
      "image/png": "[encoded data removed]",
      "text/plain": [
       "<Figure size 432x288 with 1 Axes>"
      ]
     },
     "metadata": {
      "needs_background": "light"
     },
     "output_type": "display_data"
    }
   ],
   "source": [
    "# Plot the chart for accuracy and loss on both training and validation\n",
    "\n",
    "import matplotlib.pyplot as plt\n",
    "acc = history.history['accuracy']\n",
    "val_acc = history.history['val_accuracy']\n",
    "loss = history.history['loss']\n",
    "val_loss = history.history['val_loss']\n",
    "\n",
    "epochs = range(len(acc))\n",
    "\n",
    "plt.plot(epochs, acc, 'r', label='Training accuracy')\n",
    "plt.plot(epochs, val_acc, 'b', label='Validation accuracy')\n",
    "plt.title('Training and validation accuracy')\n",
    "plt.legend()\n",
    "plt.figure()\n",
    "\n",
    "plt.plot(epochs, loss, 'r', label='Training Loss')\n",
    "plt.plot(epochs, val_loss, 'b', label='Validation Loss')\n",
    "plt.title('Training and validation loss')\n",
    "plt.legend()\n",
    "\n",
    "plt.show()"
   ]
  }
 ],
 "metadata": {
  "kernelspec": {
   "display_name": "Python 3",
   "language": "python",
   "name": "python3"
  },
  "language_info": {
   "codemirror_mode": {
    "name": "ipython",
    "version": 3
   },
   "file_extension": ".py",
   "mimetype": "text/x-python",
   "name": "python",
   "nbconvert_exporter": "python",
   "pygments_lexer": "ipython3",
   "version": "3.7.10"
  },
  "papermill": {
   "default_parameters": {},
   "duration": 59.63754,
   "end_time": "2021-11-11T21:20:38.672872",
   "environment_variables": {},
   "exception": null,
   "input_path": "__notebook__.ipynb",
   "output_path": "__notebook__.ipynb",
   "parameters": {},
   "start_time": "2021-11-11T21:19:39.035332",
   "version": "2.3.3"
  }
 },
 "nbformat": 4,
 "nbformat_minor": 5
}
